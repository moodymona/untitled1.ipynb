{
 "cells": [
  {
   "cell_type": "code",
   "execution_count": 42,
   "id": "f1256375-63f2-40ad-8c92-84e3c929095b",
   "metadata": {},
   "outputs": [
    {
     "name": "stdout",
     "output_type": "stream",
     "text": [
      "It is a hot day .stay hydrated!\n",
      "It is a warm day . Enjoy the weather!\n",
      "It is a cool day . wear a jacket!\n",
      "It is a cold day .stay warm!\n"
     ]
    }
   ],
   "source": [
    "degre =30\n",
    "if degre>=30:\n",
    "    print (\"It is a hot day .stay hydrated!\")\n",
    "else:\n",
    "    print (\"It is a cold day .\")\n",
    "degre =25\n",
    "if degre >20 and degre <29:\n",
    "    print (\"It is a warm day . Enjoy the weather!\")\n",
    "if degre <20 or degre >29:\n",
    "    print (\"It is a bad day .\")\n",
    "degre =15\n",
    "if degre >10 and degre <19:\n",
    "    print (\"It is a cool day . wear a jacket!\")\n",
    "if not (degre ==15):\n",
    "    print (\"degre is not equal to 15\")\n",
    "degre =5 \n",
    "if degre <10:\n",
    "    print(\"It is a cold day .stay warm!\")\n",
    "if degre >10:\n",
    "    print(\"It is a nice day .\")"
   ]
  },
  {
   "cell_type": "code",
   "execution_count": 38,
   "id": "588b927d-5ce7-437e-9802-00212f525e0e",
   "metadata": {},
   "outputs": [
    {
     "name": "stdout",
     "output_type": "stream",
     "text": [
      "0\n",
      "1\n",
      "2\n",
      "3\n",
      "4\n",
      "5\n",
      "6\n",
      "7\n",
      "8\n",
      "9\n",
      "10\n",
      "11\n",
      "12\n",
      "13\n",
      "14\n",
      "15\n",
      "16\n",
      "17\n",
      "18\n",
      "19\n",
      "20\n",
      "3\n",
      "6\n",
      "9\n",
      "12\n",
      "15\n",
      "18\n"
     ]
    }
   ],
   "source": [
    "# print numbers from 1 to 20\n",
    "for m in range(21):\n",
    "    print(m)\n",
    "for number in range(1,20):\n",
    "    if number %3 == 0:\n",
    "        print(number)"
   ]
  },
  {
   "cell_type": "code",
   "execution_count": null,
   "id": "68d2b931-6ab2-4a7f-a748-771b232f7aca",
   "metadata": {},
   "outputs": [],
   "source": [
    "\n"
   ]
  },
  {
   "cell_type": "code",
   "execution_count": null,
   "id": "c07d9b87-e782-4807-8eaf-9e13e9f7597b",
   "metadata": {},
   "outputs": [],
   "source": []
  }
 ],
 "metadata": {
  "kernelspec": {
   "display_name": "Python 3 (ipykernel)",
   "language": "python",
   "name": "python3"
  },
  "language_info": {
   "codemirror_mode": {
    "name": "ipython",
    "version": 3
   },
   "file_extension": ".py",
   "mimetype": "text/x-python",
   "name": "python",
   "nbconvert_exporter": "python",
   "pygments_lexer": "ipython3",
   "version": "3.12.7"
  }
 },
 "nbformat": 4,
 "nbformat_minor": 5
}
